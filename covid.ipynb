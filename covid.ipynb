{
 "cells": [
  {
   "cell_type": "code",
   "execution_count": 1,
   "metadata": {},
   "outputs": [],
   "source": [
    "#!pip install PyPDF2\n",
    "\n",
    "with open('districts.txt','r') as infile:\n",
    "    file = [line.replace(\"\\n\",\"\") for line in  infile]\n",
    "    divDis = {l.split(\", \")[0]:l.split(\", \")[1:] for l in file}\n"
   ]
  },
  {
   "cell_type": "code",
   "execution_count": 2,
   "metadata": {},
   "outputs": [
    {
     "name": "stdout",
     "output_type": "stream",
     "text": [
      "2\n"
     ]
    }
   ],
   "source": [
    "# importing required modules \n",
    "import PyPDF2 \n",
    "import numpy as np\n",
    "# creating a pdf file object \n",
    "pdfFileObj = open('daily updates/Confirmed cases in Bangladesh_upto May 08.pdf', 'rb') \n",
    "  \n",
    "# creating a pdf reader object \n",
    "pdfReader = PyPDF2.PdfFileReader(pdfFileObj) \n",
    "  \n",
    "# printing number of pages in pdf file \n",
    "print(pdfReader.numPages) \n",
    "  \n",
    "# creating a page object \n",
    "pageObj1 = pdfReader.getPage(0) \n",
    "# pageObj2 = pdfReader.getPage(1) \n",
    "# extracting text from page \n",
    "# print(pageObj.extractText())\n",
    "lines = pageObj1.extractText()"
   ]
  },
  {
   "cell_type": "code",
   "execution_count": 43,
   "metadata": {},
   "outputs": [
    {
     "name": "stdout",
     "output_type": "stream",
     "text": [
      "['Chattogram', '3', 'Chuadanga', '1', 'Cumilla', '2', \"Cox'sbazar\", '1', 'Dhaka', '6', 'DhakaCity', '84', 'Gaibandha', '5', 'Gazipur', '1', 'Jamalpur', '2', 'Madaripur', '11', 'Manikganj', '3', 'MouloviBazar', '1', 'Narayanganj', '38', 'Narsingdi', '2', 'Rangpur', '1', 'Shariatpur', '1', 'Sherpur', '1', 'Sylhet', '1']\n",
      "{'Chattogram': 3, 'Chuadanga': 1, 'Cumilla': 2, \"Cox'sbazar\": 1, 'Dhaka': 90, 'Gaibandha': 5, 'Gazipur': 1, 'Jamalpur': 2, 'Madaripur': 11, 'Manikganj': 3, 'MouloviBazar': 1, 'Narayanganj': 38, 'Narsingdi': 2, 'Rangpur': 1, 'Shariatpur': 1, 'Sherpur': 1, 'Sylhet': 1}\n"
     ]
    }
   ],
   "source": [
    "with open('daily updates/Confirmed cases in Bangladesh_upto April 7.txt', 'r') as infile:\n",
    "    lines = [line.replace(\"\\n\",\"\") for line in infile]\n",
    "    print(lines)\n",
    "#     districtWise = {line.split(\" \")[0]:int(line.split(\" \")[1]) for line in lines}\n",
    "    districtWise = {lines[i].replace(\" \",\"\"):int(lines[i+1]) for i in range(len(lines)-1)if i%2==0}\n",
    "\n",
    "districtWise['Dhaka'] = (districtWise['DhakaCity'])+(districtWise['Dhaka'])\n",
    "\n",
    "# districtWise.pop('Dhaka(District)')\n",
    "districtWise.pop('DhakaCity')\n",
    "\n",
    "print(districtWise)"
   ]
  },
  {
   "cell_type": "code",
   "execution_count": 6,
   "metadata": {},
   "outputs": [
    {
     "name": "stdout",
     "output_type": "stream",
     "text": [
      "('123', 'Sylhet')\n"
     ]
    }
   ],
   "source": [
    "def split_digit(line):\n",
    "    number = [ d for d in line if d.isdigit()]\n",
    "    number = ''.join(number)\n",
    "    return number, line.replace(number,'')\n",
    "\n",
    "print(split_digit('123Sylhet'))"
   ]
  },
  {
   "cell_type": "code",
   "execution_count": 3,
   "metadata": {},
   "outputs": [],
   "source": [
    "def getDict(x):\n",
    "    districtWise = {lines[i].replace(\" \",\"\"):int(lines[i+x]) for i in range(0,len(lines),4)}\n",
    "\n",
    "    districtWise['Dhaka'] = (districtWise['DhakaCity'])+(districtWise['Dhaka(District)'])\n",
    "    # districtWise['Coxsbazar'] = districtWise['']\n",
    "    districtWise['Brahmanbaria'] = districtWise['B.Baria']\n",
    "    districtWise.pop('Dhaka(District)')\n",
    "    districtWise.pop('DhakaCity')\n",
    "    # districtWise.pop('')\n",
    "    districtWise.pop('B.Baria')\n",
    "    \n",
    "    \n",
    "    return districtWise\n"
   ]
  },
  {
   "cell_type": "code",
   "execution_count": 7,
   "metadata": {},
   "outputs": [
    {
     "name": "stdout",
     "output_type": "stream",
     "text": [
      "['Division', 'District/City', 'Total', 'Division', '%', 'Dhaka City', '6162', '6162', '58.28%', 'Dhaka (District)', '203', 'Gazipur', '330', 'Kishoreganj', '202', 'Madaripur', '54', 'Manikganj', '28', 'Narayanganj', '1136', 'Munshigonj', '210', 'Narshingdi', '171', 'Rajbari', '23', 'Faridpur', '21', 'Tangail', '31', 'Shariatpur', '57', 'Gopalganj', '49', 'Chattogram', '159', '', '72', 'Cumilla', '150', 'B. Baria', '57', 'Khagrachari', '2', 'Laksmipur', '50', 'Bandarban', '4', 'Rangmati', '4', 'Noakhali', '27', 'Feni', '8', 'Chandpur', '43', 'Moulovi Bazar', '30', 'Sunamganj', '35', 'Hobiganj', '70', 'Sylhet', '28', 'Rangpur', '89', 'Gaibandha', '24', 'Nilphamari', '35', 'Lalmonirhat', '13', 'Kurigram', '33', 'Dinajpur', '36', 'Panchagar', '10', 'Thakurgaon', '23', 'Khulna', '20', 'Jessore', '79', 'Bagerhat', '2', 'Narail', '13', 'Magura', '11', 'Meherpur', '5', 'Satkhira', '4', 'Jhenaidah', '34', 'Kushtia', '20', 'Chuadanga', '23', 'Mymensingh', '204', 'Jamalpur', '102', 'Netrokona', '64', 'Sherpur', '30', 'Barguna', '34', 'Bhola', '7', 'Barishal', '48', 'Potuakhali', '28', 'Pirojpur', '0', 'Jhalokathi', '13', 'Joypurhat', '39', 'Pabna', '16', 'Chapainawabganj', '12', 'Bogra', '18', 'Natore', '12', 'Naogaon', '24', 'Sirajganj', '6', 'Rajshahi', '26', '', '1.23%', 'Barishal', 'Rajshahi', 'Dhaka', 'Chattogram', 'Sylhet', 'Rangpur', 'Khulna', 'Mymensingh', 'Table: COVID-19 Confirmed cases in Bangladesh (up to May 08, 2020 at 8:00am)', '153', '1.45%', '2515', '23.79%', '576', '5.45%', '163', '1.54%', '263', '2.49%', '211', '2.00%', '400', '3.78%', '130', '']\n",
      "{'Gazipur': 330, 'Kishoreganj': 202, 'Madaripur': 54, 'Manikganj': 28, 'Narayanganj': 1136, 'Munshigonj': 210, 'Narshingdi': 171, 'Rajbari': 23, 'Faridpur': 21, 'Tangail': 31, 'Shariatpur': 57, 'Gopalganj': 49, 'Chattogram': 159, 'Coxsbazar': 72, 'Cumilla': 150, 'Khagrachari': 2, 'Laksmipur': 50, 'Bandarban': 4, 'Rangmati': 4, 'Noakhali': 27, 'Feni': 8, 'Chandpur': 43, 'MouloviBazar': 30, 'Sunamganj': 35, 'Hobiganj': 70, 'Sylhet': 28, 'Rangpur': 89, 'Gaibandha': 24, 'Nilphamari': 35, 'Lalmonirhat': 13, 'Kurigram': 33, 'Dinajpur': 36, 'Panchagar': 10, 'Thakurgaon': 23, 'Khulna': 20, 'Jessore': 79, 'Bagerhat': 2, 'Narail': 13, 'Magura': 11, 'Meherpur': 5, 'Satkhira': 4, 'Jhenaidah': 34, 'Kushtia': 20, 'Chuadanga': 23, 'Mymensingh': 204, 'Jamalpur': 102, 'Netrokona': 64, 'Sherpur': 30, 'Barguna': 34, 'Bhola': 7, 'Barishal': 48, 'Potuakhali': 28, 'Pirojpur': 0, 'Jhalokathi': 13, 'Joypurhat': 39, 'Pabna': 16, 'Chapainawabganj': 12, 'Bogra': 18, 'Natore': 12, 'Naogaon': 24, 'Sirajganj': 6, 'Rajshahi': 26, 'Dhaka': 6365, 'Brahmanbaria': 57}\n",
      "{'Gazipur': 0, 'Kishoreganj': 0, 'Madaripur': 0, 'Manikganj': 0, 'Narayanganj': 0, 'Munshigonj': 0, 'Narshingdi': 0, 'Rajbari': 0, 'Faridpur': 0, 'Tangail': 0, 'Shariatpur': 0, 'Gopalganj': 0, 'Chattogram': 0, 'Coxsbazar': 0, 'Cumilla': 0, 'Khagrachari': 0, 'Laksmipur': 0, 'Bandarban': 0, 'Rangmati': 0, 'Noakhali': 0, 'Feni': 0, 'Chandpur': 0, 'MouloviBazar': 0, 'Sunamganj': 0, 'Hobiganj': 0, 'Sylhet': 0, 'Rangpur': 0, 'Gaibandha': 0, 'Nilphamari': 0, 'Lalmonirhat': 0, 'Kurigram': 0, 'Dinajpur': 0, 'Panchagar': 0, 'Thakurgaon': 0, 'Khulna': 0, 'Jessore': 0, 'Bagerhat': 0, 'Narail': 0, 'Magura': 0, 'Meherpur': 0, 'Satkhira': 0, 'Jhenaidah': 0, 'Kushtia': 0, 'Chuadanga': 0, 'Mymensingh': 0, 'Jamalpur': 0, 'Netrokona': 0, 'Sherpur': 0, 'Barguna': 0, 'Bhola': 0, 'Barishal': 0, 'Potuakhali': 0, 'Pirojpur': 0, 'Jhalokathi': 0, 'Joypurhat': 0, 'Pabna': 0, 'Chapainawabganj': 0, 'Bogra': 0, 'Natore': 0, 'Naogaon': 0, 'Sirajganj': 0, 'Rajshahi': 0, 'Dhaka': 0, 'Brahmanbaria': 0}\n",
      "{'Gazipur': 0, 'Kishoreganj': 0, 'Madaripur': 0, 'Manikganj': 0, 'Narayanganj': 0, 'Munshigonj': 0, 'Narshingdi': 0, 'Rajbari': 0, 'Faridpur': 0, 'Tangail': 0, 'Shariatpur': 0, 'Gopalganj': 0, 'Chattogram': 0, 'Coxsbazar': 0, 'Cumilla': 0, 'Khagrachari': 0, 'Laksmipur': 0, 'Bandarban': 0, 'Rangmati': 0, 'Noakhali': 0, 'Feni': 0, 'Chandpur': 0, 'MouloviBazar': 0, 'Sunamganj': 0, 'Hobiganj': 0, 'Sylhet': 0, 'Rangpur': 0, 'Gaibandha': 0, 'Nilphamari': 0, 'Lalmonirhat': 0, 'Kurigram': 0, 'Dinajpur': 0, 'Panchagar': 0, 'Thakurgaon': 0, 'Khulna': 0, 'Jessore': 0, 'Bagerhat': 0, 'Narail': 0, 'Magura': 0, 'Meherpur': 0, 'Satkhira': 0, 'Jhenaidah': 0, 'Kushtia': 0, 'Chuadanga': 0, 'Mymensingh': 0, 'Jamalpur': 0, 'Netrokona': 0, 'Sherpur': 0, 'Barguna': 0, 'Bhola': 0, 'Barishal': 0, 'Potuakhali': 0, 'Pirojpur': 0, 'Jhalokathi': 0, 'Joypurhat': 0, 'Pabna': 0, 'Chapainawabganj': 0, 'Bogra': 0, 'Natore': 0, 'Naogaon': 0, 'Sirajganj': 0, 'Rajshahi': 0, 'Dhaka': 0, 'Brahmanbaria': 0}\n"
     ]
    }
   ],
   "source": [
    "lines = pageObj1.extractText()\n",
    "# +pageObj2.extractText()\n",
    "# print(lines)\n",
    "# lines= lines.replace('3Jessore1Bagerhat','3Jessore\\n1Bagerhat')\n",
    "# lines= lines.replace('1Bogra2Naogaon','1Bogra\\n2Naogaon')\n",
    "# print(lines)\n",
    "lines = lines.split(\"\\n\")\n",
    "print(lines)\n",
    "d = lines.index(\"Table: COVID-19 Confirmed cases in Bangladesh (up to May 08, 2020 at 8:00am)\")\n",
    "lines = lines[5:d-10]\n",
    "\n",
    "# lines.append('1Naogaon')\n",
    "\n",
    "\n",
    "# print(lines)\n",
    "# new = []\n",
    "# for line in lines:\n",
    "#     a, b = split_digit(line)\n",
    "#     new.append(a)\n",
    "#     new.append(b)\n",
    "\n",
    "# lines = [n for n in new]\n",
    "# print(lines)\n",
    "# lines.append('9')\n",
    "# del lines[0]\n",
    "del lines[2]\n",
    "del lines[2]\n",
    "# lines[1]= '1229'\n",
    "# lines.remove('974')\n",
    "# lines.remove('Rajshahi')\n",
    "# del lines[lines.index('Rajshahi')+1]\n",
    "# a = lines.index(\"Dhaka City\")\n",
    "# b = lines.index(\"Chuadanga\")\n",
    "# c = lines.index(\"Panchagar\")\n",
    "\n",
    "# del lines[c+2]\n",
    "# del lines[c+2]\n",
    "\n",
    "# del lines[a+1]\n",
    "# del lines[b+1]\n",
    "# del lines[c+1]\n",
    "\n",
    "a = lines.index(\"\")\n",
    "lines[a]= 'Coxsbazar'\n",
    "# print(lines)\n",
    "# d = lines.index(\"(up to April 14, 2020 at 8:00am)\")\n",
    "# lines = [l for l in lines if l!=' ']\n",
    "\n",
    "# lines = lines[4:d]\n",
    "\n",
    "\n",
    "# for div in divDis.keys():\n",
    "#     if div in lines:\n",
    "#         lines.remove(div)\n",
    "        \n",
    "# lines.remove('a')\n",
    "# lines.remove('nj')\n",
    "# lines[lines.index('Keranig')] = 'Keraniganj'\n",
    "\n",
    "# lines.remove('Cox')\n",
    "# lines.remove('s bazar')\n",
    "# lines.remove('a')\n",
    "# lines.remove('tpur')\n",
    "# lines.remove('B')\n",
    "# lines.remove('arishal')\n",
    "# lines[lines.index('Shari')] = 'Shariatpur'\n",
    "# lines[lines.index('(District)')] = 'Dhaka'\n",
    "# print(lines)\n",
    "final = []\n",
    "for i in range(len(lines)-1):\n",
    "    n = lines[i][0] \n",
    "\n",
    "    if not n.isdigit():\n",
    "        final.append(lines[i])\n",
    "        final.append(lines[i+1])\n",
    "        \n",
    "        if i+2<len(lines):\n",
    "            d = lines[i+2][0]\n",
    "            if d.isdigit():\n",
    "                final.append(lines[i+2])\n",
    "            else:\n",
    "                final.append('0')\n",
    "                final.append('0')\n",
    "                continue\n",
    "        else:\n",
    "            final.append('0')\n",
    "            final.append('0')\n",
    "            continue\n",
    "                \n",
    "                \n",
    "        if i+3<len(lines):\n",
    "            r = lines[i+3][0]    \n",
    "            \n",
    "            if r.isdigit():\n",
    "                final.append(lines[i+3])\n",
    "            else:\n",
    "                final.append('0')\n",
    "        else:\n",
    "            final.append('0')\n",
    "    \n",
    "# print(final)\n",
    "\n",
    "lines = [l for l in final]\n",
    "\n",
    "districtWiseAffected = getDict(1)\n",
    "districtWiseDeath = getDict(2)\n",
    "districtWiseRecover = getDict(3)\n",
    "\n",
    "# districtWiseDeath['Gazipur'] = 0\n",
    "# districtWiseDeath['Coxsbazar'] = 0\n",
    "# districtWiseDeath['Gaibandha'] = 0\n",
    "# districtWiseDeath['Chuadanga'] = 0\n",
    "\n",
    "# districtWiseRecover['Gazipur'] = 1\n",
    "# districtWiseRecover['Coxsbazar'] = 1\n",
    "# districtWiseRecover['Gaibandha'] = 4\n",
    "# districtWiseRecover['Chuadanga'] = 1\n",
    "\n",
    "print(districtWiseAffected)\n",
    "print(districtWiseDeath)\n",
    "print(districtWiseRecover)\n",
    "\n",
    "\n",
    "# closing the pdf file object \n",
    "pdfFileObj.close() "
   ]
  },
  {
   "cell_type": "code",
   "execution_count": 8,
   "metadata": {},
   "outputs": [],
   "source": [
    "def hamming(dis,districtWise ):\n",
    "    ham = 100\n",
    "    nearest = dis\n",
    "    for d in districtWise.keys():\n",
    "        count = edit_distance(d,dis)\n",
    "#         print(count)\n",
    "        if count<ham:\n",
    "            ham = count\n",
    "            nearest = d\n",
    "    \n",
    "    if ham<=1:\n",
    "        return nearest\n",
    "    else:\n",
    "         return dis\n",
    "            "
   ]
  },
  {
   "cell_type": "code",
   "execution_count": 9,
   "metadata": {},
   "outputs": [],
   "source": [
    "def edit_distance(s1,s2):\n",
    "    s1 = s1.lower()\n",
    "    s2 = s2.lower()\n",
    "    l1 = len(s1)+1\n",
    "    l2 = len(s2)+1\n",
    "    dp= [[0 for i in range(l1)] for j in range(l2)]\n",
    "    for i in range(l1):\n",
    "        dp[0][i] = i\n",
    "    for i in range(l2):\n",
    "        dp[i][0] = i\n",
    "    \n",
    "    for i in range(1,l2):\n",
    "        for j in range(1,l1):\n",
    "            v = min(dp[i-1][j-1],dp[i][j-1],dp[i-1][j])\n",
    "            if(s2[i-1]==s1[j-1]):\n",
    "                dp[i][j]=dp[i-1][j-1]\n",
    "            else:\n",
    "                 dp[i][j]=v+1\n",
    "    \n",
    "    return(dp[l2-1][l1-1])\n",
    "            \n",
    "    "
   ]
  },
  {
   "cell_type": "code",
   "execution_count": 6,
   "metadata": {},
   "outputs": [
    {
     "data": {
      "text/plain": [
       "5"
      ]
     },
     "execution_count": 6,
     "metadata": {},
     "output_type": "execute_result"
    }
   ],
   "source": [
    "edit_distance('editing','distance')"
   ]
  },
  {
   "cell_type": "code",
   "execution_count": 10,
   "metadata": {},
   "outputs": [
    {
     "name": "stdout",
     "output_type": "stream",
     "text": [
      "[('Chattogram', 'Cumilla', 150), ('Chattogram', 'Feni', 8), ('Chattogram', 'Brahmanbaria', 57), ('Chattogram', 'Rangamati', 4), ('Chattogram', 'Noakhali', 27), ('Chattogram', 'Chandpur', 43), ('Chattogram', 'Lakshmipur', 50), ('Chattogram', 'Chattogram', 159), ('Chattogram', 'Coxsbazar', 72), ('Chattogram', 'Khagrachhari', 2), ('Chattogram', 'Bandarban', 4), ('Rajshahi', 'Sirajganj', 6), ('Rajshahi', 'Pabna', 16), ('Rajshahi', 'Bogura', 18), ('Rajshahi', 'Rajshahi', 26), ('Rajshahi', 'Natore', 12), ('Rajshahi', 'Joypurhat', 39), ('Rajshahi', 'Chapainawabganj', 12), ('Rajshahi', 'Naogaon', 24), ('Khulna', 'Jessore', 79), ('Khulna', 'Satkhira', 4), ('Khulna', 'Meherpur', 5), ('Khulna', 'Narail', 13), ('Khulna', 'Chuadanga', 23), ('Khulna', 'Kushtia', 20), ('Khulna', 'Magura', 11), ('Khulna', 'Khulna', 20), ('Khulna', 'Bagerhat', 2), ('Khulna', 'Jhenaidah', 34), ('Barishal', 'Jhalakathi', 13), ('Barishal', 'Patuakhali', 28), ('Barishal', 'Pirojpur', 0), ('Barishal', 'Barishal', 48), ('Barishal', 'Bhola', 7), ('Barishal', 'Barguna', 34), ('Sylhet', 'Sylhet', 28), ('Sylhet', 'Moulvibazar', 30), ('Sylhet', 'Habiganj', 70), ('Sylhet', 'Sunamganj', 35), ('Dhaka', 'Narsingdi', 171), ('Dhaka', 'Gazipur', 330), ('Dhaka', 'Shariatpur', 57), ('Dhaka', 'Narayanganj', 1136), ('Dhaka', 'Tangail', 31), ('Dhaka', 'Kishoreganj', 202), ('Dhaka', 'Manikganj', 28), ('Dhaka', 'Dhaka', 6365), ('Dhaka', 'Munshiganj', 210), ('Dhaka', 'Rajbari', 23), ('Dhaka', 'Madaripur', 54), ('Dhaka', 'Gopalganj', 49), ('Dhaka', 'Faridpur', 21), ('Rangpur', 'Panchagarh', 10), ('Rangpur', 'Dinajpur', 36), ('Rangpur', 'Lalmonirhat', 13), ('Rangpur', 'Nilphamari', 35), ('Rangpur', 'Gaibandha', 24), ('Rangpur', 'Thakurgaon', 23), ('Rangpur', 'Rangpur', 89), ('Rangpur', 'Kurigram', 33), ('Mymensingh', 'Sherpur', 30), ('Mymensingh', 'Mymensingh', 204), ('Mymensingh', 'Jamalpur', 102), ('Mymensingh', 'Netrokona', 64)]\n"
     ]
    }
   ],
   "source": [
    "def getListToTuple(districtWise):\n",
    "    rows = []\n",
    "    for div,dist in divDis.items():\n",
    "        rows.extend([(div,d, districtWise[hamming(d,districtWise)] if hamming(d,districtWise) in districtWise.keys() else 0) for d in dist])\n",
    "#     print(rows)\n",
    "    return rows\n",
    "\n",
    "affected = getListToTuple(districtWiseAffected)\n",
    "death = getListToTuple(districtWiseDeath)\n",
    "recover = getListToTuple(districtWiseRecover)\n",
    "    \n",
    "print(affected)"
   ]
  },
  {
   "cell_type": "code",
   "execution_count": 11,
   "metadata": {},
   "outputs": [],
   "source": [
    "import pandas as pd\n",
    "\n",
    "dfA = pd.DataFrame.from_records(affected, columns =['Division', 'District', '2020/05/08']) \n",
    "dfD = pd.DataFrame.from_records(death, columns =['Division', 'District', '2020/05/08']) \n",
    "dfR = pd.DataFrame.from_records(recover, columns =['Division', 'District', '2020/05/08']) "
   ]
  },
  {
   "cell_type": "code",
   "execution_count": 16,
   "metadata": {},
   "outputs": [
    {
     "data": {
      "text/html": [
       "<div>\n",
       "<style scoped>\n",
       "    .dataframe tbody tr th:only-of-type {\n",
       "        vertical-align: middle;\n",
       "    }\n",
       "\n",
       "    .dataframe tbody tr th {\n",
       "        vertical-align: top;\n",
       "    }\n",
       "\n",
       "    .dataframe thead th {\n",
       "        text-align: right;\n",
       "    }\n",
       "</style>\n",
       "<table border=\"1\" class=\"dataframe\">\n",
       "  <thead>\n",
       "    <tr style=\"text-align: right;\">\n",
       "      <th></th>\n",
       "      <th>Division</th>\n",
       "      <th>District</th>\n",
       "      <th>2020/04/28</th>\n",
       "    </tr>\n",
       "  </thead>\n",
       "  <tbody>\n",
       "    <tr>\n",
       "      <td>59</td>\n",
       "      <td>Rangpur</td>\n",
       "      <td>Kurigram</td>\n",
       "      <td>0</td>\n",
       "    </tr>\n",
       "    <tr>\n",
       "      <td>60</td>\n",
       "      <td>Mymensingh</td>\n",
       "      <td>Sherpur</td>\n",
       "      <td>0</td>\n",
       "    </tr>\n",
       "    <tr>\n",
       "      <td>61</td>\n",
       "      <td>Mymensingh</td>\n",
       "      <td>Mymensingh</td>\n",
       "      <td>2</td>\n",
       "    </tr>\n",
       "    <tr>\n",
       "      <td>62</td>\n",
       "      <td>Mymensingh</td>\n",
       "      <td>Jamalpur</td>\n",
       "      <td>3</td>\n",
       "    </tr>\n",
       "    <tr>\n",
       "      <td>63</td>\n",
       "      <td>Mymensingh</td>\n",
       "      <td>Netrokona</td>\n",
       "      <td>0</td>\n",
       "    </tr>\n",
       "  </tbody>\n",
       "</table>\n",
       "</div>"
      ],
      "text/plain": [
       "      Division    District  2020/04/28\n",
       "59     Rangpur    Kurigram           0\n",
       "60  Mymensingh     Sherpur           0\n",
       "61  Mymensingh  Mymensingh           2\n",
       "62  Mymensingh    Jamalpur           3\n",
       "63  Mymensingh   Netrokona           0"
      ]
     },
     "execution_count": 16,
     "metadata": {},
     "output_type": "execute_result"
    }
   ],
   "source": [
    "dfD.tail()\n"
   ]
  },
  {
   "cell_type": "code",
   "execution_count": 22,
   "metadata": {},
   "outputs": [
    {
     "ename": "KeyError",
     "evalue": "'Division'",
     "output_type": "error",
     "traceback": [
      "\u001b[0;31m---------------------------------------------------------------------------\u001b[0m",
      "\u001b[0;31mKeyError\u001b[0m                                  Traceback (most recent call last)",
      "\u001b[0;32m<ipython-input-22-e01542a55f65>\u001b[0m in \u001b[0;36m<module>\u001b[0;34m\u001b[0m\n\u001b[0;32m----> 1\u001b[0;31m \u001b[0mdf\u001b[0m\u001b[0;34m.\u001b[0m\u001b[0mgroupby\u001b[0m\u001b[0;34m(\u001b[0m\u001b[0;34m'Division'\u001b[0m\u001b[0;34m)\u001b[0m\u001b[0;34m[\u001b[0m\u001b[0;34m'2020/05/02'\u001b[0m\u001b[0;34m]\u001b[0m\u001b[0;34m.\u001b[0m\u001b[0msum\u001b[0m\u001b[0;34m(\u001b[0m\u001b[0;34m)\u001b[0m\u001b[0;34m\u001b[0m\u001b[0;34m\u001b[0m\u001b[0m\n\u001b[0m",
      "\u001b[0;32m~/anaconda3/lib/python3.7/site-packages/pandas/core/generic.py\u001b[0m in \u001b[0;36mgroupby\u001b[0;34m(self, by, axis, level, as_index, sort, group_keys, squeeze, observed, **kwargs)\u001b[0m\n\u001b[1;32m   7892\u001b[0m             \u001b[0msqueeze\u001b[0m\u001b[0;34m=\u001b[0m\u001b[0msqueeze\u001b[0m\u001b[0;34m,\u001b[0m\u001b[0;34m\u001b[0m\u001b[0;34m\u001b[0m\u001b[0m\n\u001b[1;32m   7893\u001b[0m             \u001b[0mobserved\u001b[0m\u001b[0;34m=\u001b[0m\u001b[0mobserved\u001b[0m\u001b[0;34m,\u001b[0m\u001b[0;34m\u001b[0m\u001b[0;34m\u001b[0m\u001b[0m\n\u001b[0;32m-> 7894\u001b[0;31m             \u001b[0;34m**\u001b[0m\u001b[0mkwargs\u001b[0m\u001b[0;34m\u001b[0m\u001b[0;34m\u001b[0m\u001b[0m\n\u001b[0m\u001b[1;32m   7895\u001b[0m         )\n\u001b[1;32m   7896\u001b[0m \u001b[0;34m\u001b[0m\u001b[0m\n",
      "\u001b[0;32m~/anaconda3/lib/python3.7/site-packages/pandas/core/groupby/groupby.py\u001b[0m in \u001b[0;36mgroupby\u001b[0;34m(obj, by, **kwds)\u001b[0m\n\u001b[1;32m   2520\u001b[0m         \u001b[0;32mraise\u001b[0m \u001b[0mTypeError\u001b[0m\u001b[0;34m(\u001b[0m\u001b[0;34m\"invalid type: {}\"\u001b[0m\u001b[0;34m.\u001b[0m\u001b[0mformat\u001b[0m\u001b[0;34m(\u001b[0m\u001b[0mobj\u001b[0m\u001b[0;34m)\u001b[0m\u001b[0;34m)\u001b[0m\u001b[0;34m\u001b[0m\u001b[0;34m\u001b[0m\u001b[0m\n\u001b[1;32m   2521\u001b[0m \u001b[0;34m\u001b[0m\u001b[0m\n\u001b[0;32m-> 2522\u001b[0;31m     \u001b[0;32mreturn\u001b[0m \u001b[0mklass\u001b[0m\u001b[0;34m(\u001b[0m\u001b[0mobj\u001b[0m\u001b[0;34m,\u001b[0m \u001b[0mby\u001b[0m\u001b[0;34m,\u001b[0m \u001b[0;34m**\u001b[0m\u001b[0mkwds\u001b[0m\u001b[0;34m)\u001b[0m\u001b[0;34m\u001b[0m\u001b[0;34m\u001b[0m\u001b[0m\n\u001b[0m",
      "\u001b[0;32m~/anaconda3/lib/python3.7/site-packages/pandas/core/groupby/groupby.py\u001b[0m in \u001b[0;36m__init__\u001b[0;34m(self, obj, keys, axis, level, grouper, exclusions, selection, as_index, sort, group_keys, squeeze, observed, **kwargs)\u001b[0m\n\u001b[1;32m    389\u001b[0m                 \u001b[0msort\u001b[0m\u001b[0;34m=\u001b[0m\u001b[0msort\u001b[0m\u001b[0;34m,\u001b[0m\u001b[0;34m\u001b[0m\u001b[0;34m\u001b[0m\u001b[0m\n\u001b[1;32m    390\u001b[0m                 \u001b[0mobserved\u001b[0m\u001b[0;34m=\u001b[0m\u001b[0mobserved\u001b[0m\u001b[0;34m,\u001b[0m\u001b[0;34m\u001b[0m\u001b[0;34m\u001b[0m\u001b[0m\n\u001b[0;32m--> 391\u001b[0;31m                 \u001b[0mmutated\u001b[0m\u001b[0;34m=\u001b[0m\u001b[0mself\u001b[0m\u001b[0;34m.\u001b[0m\u001b[0mmutated\u001b[0m\u001b[0;34m,\u001b[0m\u001b[0;34m\u001b[0m\u001b[0;34m\u001b[0m\u001b[0m\n\u001b[0m\u001b[1;32m    392\u001b[0m             )\n\u001b[1;32m    393\u001b[0m \u001b[0;34m\u001b[0m\u001b[0m\n",
      "\u001b[0;32m~/anaconda3/lib/python3.7/site-packages/pandas/core/groupby/grouper.py\u001b[0m in \u001b[0;36m_get_grouper\u001b[0;34m(obj, key, axis, level, sort, observed, mutated, validate)\u001b[0m\n\u001b[1;32m    619\u001b[0m                 \u001b[0min_axis\u001b[0m\u001b[0;34m,\u001b[0m \u001b[0mname\u001b[0m\u001b[0;34m,\u001b[0m \u001b[0mlevel\u001b[0m\u001b[0;34m,\u001b[0m \u001b[0mgpr\u001b[0m \u001b[0;34m=\u001b[0m \u001b[0;32mFalse\u001b[0m\u001b[0;34m,\u001b[0m \u001b[0;32mNone\u001b[0m\u001b[0;34m,\u001b[0m \u001b[0mgpr\u001b[0m\u001b[0;34m,\u001b[0m \u001b[0;32mNone\u001b[0m\u001b[0;34m\u001b[0m\u001b[0;34m\u001b[0m\u001b[0m\n\u001b[1;32m    620\u001b[0m             \u001b[0;32melse\u001b[0m\u001b[0;34m:\u001b[0m\u001b[0;34m\u001b[0m\u001b[0;34m\u001b[0m\u001b[0m\n\u001b[0;32m--> 621\u001b[0;31m                 \u001b[0;32mraise\u001b[0m \u001b[0mKeyError\u001b[0m\u001b[0;34m(\u001b[0m\u001b[0mgpr\u001b[0m\u001b[0;34m)\u001b[0m\u001b[0;34m\u001b[0m\u001b[0;34m\u001b[0m\u001b[0m\n\u001b[0m\u001b[1;32m    622\u001b[0m         \u001b[0;32melif\u001b[0m \u001b[0misinstance\u001b[0m\u001b[0;34m(\u001b[0m\u001b[0mgpr\u001b[0m\u001b[0;34m,\u001b[0m \u001b[0mGrouper\u001b[0m\u001b[0;34m)\u001b[0m \u001b[0;32mand\u001b[0m \u001b[0mgpr\u001b[0m\u001b[0;34m.\u001b[0m\u001b[0mkey\u001b[0m \u001b[0;32mis\u001b[0m \u001b[0;32mnot\u001b[0m \u001b[0;32mNone\u001b[0m\u001b[0;34m:\u001b[0m\u001b[0;34m\u001b[0m\u001b[0;34m\u001b[0m\u001b[0m\n\u001b[1;32m    623\u001b[0m             \u001b[0;31m# Add key to exclusions\u001b[0m\u001b[0;34m\u001b[0m\u001b[0;34m\u001b[0m\u001b[0;34m\u001b[0m\u001b[0m\n",
      "\u001b[0;31mKeyError\u001b[0m: 'Division'"
     ]
    }
   ],
   "source": [
    "df.groupby('Division')['2020/05/02'].sum()"
   ]
  },
  {
   "cell_type": "code",
   "execution_count": 12,
   "metadata": {},
   "outputs": [],
   "source": [
    "\n",
    "data = pd.read_csv('df/Affected/data_30.csv')\n",
    "data.head()\n",
    "col = list(data.head())\n",
    "df = dfA['2020/05/08']\n",
    "# data = data[col[2:]]\n",
    "result = pd.concat([data,df],axis = 1)\n",
    "result.tail()\n",
    "result.to_csv('df/Affected/data_31.csv',index=False)"
   ]
  },
  {
   "cell_type": "code",
   "execution_count": 17,
   "metadata": {},
   "outputs": [],
   "source": [
    "\n",
    "data = pd.read_csv('df/Death/data_8.csv')\n",
    "data.head()\n",
    "col = list(data.head())\n",
    "df = dfD['2020/05/06']\n",
    "# data = data[col[2:]]\n",
    "result = pd.concat([data,df],axis = 1)\n",
    "result.tail()\n",
    "result.to_csv('df/Death/data_9.csv',index=False)"
   ]
  },
  {
   "cell_type": "code",
   "execution_count": 19,
   "metadata": {},
   "outputs": [],
   "source": [
    "\n",
    "data = pd.read_csv('df/Recover/data.csv')\n",
    "data.head()\n",
    "col = list(data.head())\n",
    "df = dfR['2020/04/28']\n",
    "# data = data[col[2:]]\n",
    "result = pd.concat([data,df],axis = 1)\n",
    "result.tail()\n",
    "result.to_csv('df/Recover/data_1.csv',index=False)"
   ]
  },
  {
   "cell_type": "code",
   "execution_count": 91,
   "metadata": {},
   "outputs": [],
   "source": [
    "def numbers_by_division(df, date):\n",
    "    return df.groupby('Division')[date].sum().sort_values(ascending=False)\n",
    "\n",
    "def numbers_by_division_all(df):\n",
    "    return df.groupby('Division').sum()"
   ]
  },
  {
   "cell_type": "code",
   "execution_count": 92,
   "metadata": {},
   "outputs": [
    {
     "name": "stdout",
     "output_type": "stream",
     "text": [
      "            2020/04/11  2020/04/12\n",
      "Division                          \n",
      "Barishal             2           7\n",
      "Chattogram          25          35\n",
      "Dhaka              419         529\n",
      "Khulna               1           1\n",
      "Mymensingh          11          14\n",
      "Rajshahi             0           0\n",
      "Rangpur              9          15\n",
      "Sylhet               3           3\n"
     ]
    }
   ],
   "source": [
    "print(numbers_by_division_all(result))"
   ]
  },
  {
   "cell_type": "code",
   "execution_count": 85,
   "metadata": {},
   "outputs": [
    {
     "name": "stdout",
     "output_type": "stream",
     "text": [
      "['Division', 'District', '2020/04/11', '2020/04/12']\n"
     ]
    }
   ],
   "source": [
    "print(list(result.head()))"
   ]
  },
  {
   "cell_type": "code",
   "execution_count": 30,
   "metadata": {},
   "outputs": [],
   "source": [
    "def district_distribution(df,date,div):\n",
    "    \n",
    "    d = (df.loc[df['Division']==div])\n",
    "    print(d[['District',date]].sort_values(by=[date], ascending=False))\n",
    "\n",
    "def district_distribution(df,div):\n",
    "    \n",
    "    d = (df.loc[df['Division']==div])\n",
    "    print(d)"
   ]
  },
  {
   "cell_type": "code",
   "execution_count": 31,
   "metadata": {},
   "outputs": [
    {
     "ename": "TypeError",
     "evalue": "district_distribution() takes 2 positional arguments but 3 were given",
     "output_type": "error",
     "traceback": [
      "\u001b[0;31m---------------------------------------------------------------------------\u001b[0m",
      "\u001b[0;31mTypeError\u001b[0m                                 Traceback (most recent call last)",
      "\u001b[0;32m<ipython-input-31-1708c6333a12>\u001b[0m in \u001b[0;36m<module>\u001b[0;34m\u001b[0m\n\u001b[0;32m----> 1\u001b[0;31m \u001b[0mdistrict_distribution\u001b[0m\u001b[0;34m(\u001b[0m\u001b[0mresult\u001b[0m\u001b[0;34m,\u001b[0m\u001b[0;34m'2020/04/12'\u001b[0m\u001b[0;34m,\u001b[0m\u001b[0;34m'Dhaka'\u001b[0m\u001b[0;34m)\u001b[0m\u001b[0;34m\u001b[0m\u001b[0;34m\u001b[0m\u001b[0m\n\u001b[0m",
      "\u001b[0;31mTypeError\u001b[0m: district_distribution() takes 2 positional arguments but 3 were given"
     ]
    }
   ],
   "source": [
    "district_distribution(result,'2020/04/12','Dhaka')"
   ]
  },
  {
   "cell_type": "code",
   "execution_count": null,
   "metadata": {},
   "outputs": [],
   "source": [
    "\n",
    "def binary(l,)"
   ]
  }
 ],
 "metadata": {
  "kernelspec": {
   "display_name": "Python 3",
   "language": "python",
   "name": "python3"
  },
  "language_info": {
   "codemirror_mode": {
    "name": "ipython",
    "version": 3
   },
   "file_extension": ".py",
   "mimetype": "text/x-python",
   "name": "python",
   "nbconvert_exporter": "python",
   "pygments_lexer": "ipython3",
   "version": "3.7.4"
  }
 },
 "nbformat": 4,
 "nbformat_minor": 2
}
